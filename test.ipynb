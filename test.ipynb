{
 "cells": [
  {
   "cell_type": "code",
   "execution_count": 1,
   "metadata": {},
   "outputs": [],
   "source": [
    "import os\n",
    "from tqdm import tqdm\n",
    "\n",
    "from langchain.vectorstores.chroma import Chroma\n",
    "from langchain_openai.embeddings import OpenAIEmbeddings"
   ]
  },
  {
   "cell_type": "code",
   "execution_count": 2,
   "metadata": {},
   "outputs": [],
   "source": [
    "dir_path = './db'\n",
    "db_paths = [os.path.join(dir_path, f) for f in os.listdir(dir_path)]"
   ]
  },
  {
   "cell_type": "code",
   "execution_count": 3,
   "metadata": {},
   "outputs": [],
   "source": [
    "new_db = Chroma(persist_directory='./db/chroma_db_main', embedding_function=OpenAIEmbeddings())"
   ]
  },
  {
   "cell_type": "code",
   "execution_count": 4,
   "metadata": {},
   "outputs": [],
   "source": [
    "def chunks(lst: list, n: int) -> list:\n",
    "    return [lst[i:i + n] for i in range(0, len(lst), n)]"
   ]
  },
  {
   "cell_type": "code",
   "execution_count": 5,
   "metadata": {},
   "outputs": [
    {
     "name": "stdout",
     "output_type": "stream",
     "text": [
      "Processing ./db\\chroma_db_html\n",
      "Adding 9142 documents to main db\n"
     ]
    },
    {
     "name": "stderr",
     "output_type": "stream",
     "text": [
      "100%|██████████| 10/10 [00:18<00:00,  1.85s/it]\n"
     ]
    },
    {
     "name": "stdout",
     "output_type": "stream",
     "text": [
      "Processing ./db\\chroma_db_paths\n",
      "Adding 7172 documents to main db\n"
     ]
    },
    {
     "name": "stderr",
     "output_type": "stream",
     "text": [
      "100%|██████████| 8/8 [00:10<00:00,  1.31s/it]\n"
     ]
    },
    {
     "name": "stdout",
     "output_type": "stream",
     "text": [
      "Processing ./db\\chroma_db_semantic\n",
      "Adding 9592 documents to main db\n"
     ]
    },
    {
     "name": "stderr",
     "output_type": "stream",
     "text": [
      "100%|██████████| 10/10 [00:24<00:00,  2.42s/it]\n"
     ]
    },
    {
     "name": "stdout",
     "output_type": "stream",
     "text": [
      "Processing ./db\\chroma_db_znaki_1000\n",
      "Adding 19458 documents to main db\n"
     ]
    },
    {
     "name": "stderr",
     "output_type": "stream",
     "text": [
      "100%|██████████| 20/20 [00:43<00:00,  2.17s/it]\n"
     ]
    },
    {
     "name": "stdout",
     "output_type": "stream",
     "text": [
      "Processing ./db\\chroma_db_znaki_150\n",
      "Adding 130201 documents to main db\n"
     ]
    },
    {
     "name": "stderr",
     "output_type": "stream",
     "text": [
      "100%|██████████| 131/131 [05:51<00:00,  2.69s/it]\n"
     ]
    },
    {
     "name": "stdout",
     "output_type": "stream",
     "text": [
      "Processing ./db\\chroma_db_znaki_400\n",
      "Adding 50191 documents to main db\n"
     ]
    },
    {
     "name": "stderr",
     "output_type": "stream",
     "text": [
      "100%|██████████| 51/51 [02:38<00:00,  3.10s/it]\n"
     ]
    }
   ],
   "source": [
    "for path in db_paths:\n",
    "    print(f'Processing {path}')\n",
    "    db = Chroma(persist_directory=path, embedding_function=OpenAIEmbeddings())\n",
    "    data = db._collection.get(\n",
    "        include=['metadatas', 'embeddings', 'documents']\n",
    "    )\n",
    "    data = [\n",
    "        {'metadata': meta, 'embedding': emb, 'document': doc, 'id': id_}\n",
    "        for meta, emb, doc, id_ in zip(data['metadatas'], data['embeddings'], data['documents'], data['ids'])\n",
    "    ]\n",
    "    print(f'Adding {len(data)} documents to main db')\n",
    "\n",
    "    for chunk in tqdm(chunks(data, 1000)):\n",
    "        new_db._collection.add(\n",
    "            metadatas=[el['metadata'] for el in chunk],\n",
    "            embeddings=[el['embedding'] for el in chunk],\n",
    "            documents=[el['document'] for el in chunk],\n",
    "            ids=[el['id'] for el in chunk]\n",
    "        )\n"
   ]
  }
 ],
 "metadata": {
  "kernelspec": {
   "display_name": ".venv",
   "language": "python",
   "name": "python3"
  },
  "language_info": {
   "codemirror_mode": {
    "name": "ipython",
    "version": 3
   },
   "file_extension": ".py",
   "mimetype": "text/x-python",
   "name": "python",
   "nbconvert_exporter": "python",
   "pygments_lexer": "ipython3",
   "version": "3.11.5"
  }
 },
 "nbformat": 4,
 "nbformat_minor": 2
}
